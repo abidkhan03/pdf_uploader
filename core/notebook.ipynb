{
 "cells": [
  {
   "cell_type": "code",
   "execution_count": 177,
   "metadata": {},
   "outputs": [
    {
     "name": "stdout",
     "output_type": "stream",
     "text": [
      "__init__.py    apps.py        models.py      \u001b[34mstatic\u001b[m\u001b[m         tests.py\n",
      "\u001b[34m__pycache__\u001b[m\u001b[m    forms.py       notebook.ipynb \u001b[34mtemplates\u001b[m\u001b[m      urls.py\n",
      "admin.py       \u001b[34mmigrations\u001b[m\u001b[m     pdf.py         testing.py     views.py\n"
     ]
    },
    {
     "name": "stderr",
     "output_type": "stream",
     "text": [
      "Got stderr: Aug 23, 2022 4:01:35 PM org.apache.pdfbox.pdmodel.font.PDType0Font toUnicode\n",
      "WARNING: No Unicode mapping for CID+0 (0) in font BAAAAA+SegoeUI\n",
      "\n"
     ]
    }
   ],
   "source": [
    "# import camelot\n",
    "!ls\n",
    "file = '../media/test_Bs1vYdW.pdf'\n",
    "# # print(file)\n",
    "# table = camelot.read_pdf(file, pages='2')\n",
    "\n",
    "\n",
    "# print(\"Total tables extracted:\", table.n)\n",
    "# print(table[0].df)\n",
    "\n",
    "import tabula\n",
    "import os\n",
    "tables = tabula.read_pdf(file, pages=\"1\")\n"
   ]
  },
  {
   "cell_type": "code",
   "execution_count": 178,
   "metadata": {},
   "outputs": [],
   "source": [
    "data={\n",
    "        'userImg':\"images/0.png\",     #user image\n",
    "        'userSign':\"images/1.png\",    #user signature\n",
    "\n",
    "    }"
   ]
  },
  {
   "cell_type": "code",
   "execution_count": 181,
   "metadata": {},
   "outputs": [
    {
     "name": "stderr",
     "output_type": "stream",
     "text": [
      "Got stderr: Aug 23, 2022 4:54:43 PM org.apache.pdfbox.pdmodel.font.PDType0Font toUnicode\n",
      "WARNING: No Unicode mapping for CID+0 (0) in font BAAAAA+SegoeUI\n",
      "\n"
     ]
    },
    {
     "data": {
      "text/plain": [
       "{'userImg': 'images/0.png',\n",
       " 'userSign': 'images/1.png',\n",
       " 'NationalID': '5547589845',\n",
       " 'BloodGroup': '',\n",
       " 'VoterAt': 'present',\n",
       " 'Pin': '19821918113697076',\n",
       " 'NameB': 'মাঃ রিফকুল ইসলাম',\n",
       " 'NameE': 'Md Rofikul Islam',\n",
       " 'DOB': '08 May 1982',\n",
       " 'FatherName': 'নান িময়া',\n",
       " 'MotherName': 'সিফয়া খাতন',\n",
       " 'Present': {'division': 'চাম',\n",
       "  'district': 'কুিমা',\n",
       "  'CCOM': '',\n",
       "  'MM': '',\n",
       "  'AMM': 'বাংগরা',\n",
       "  'VR': '',\n",
       "  'AVR': 'বাংগরা',\n",
       "  'HH': 'নান িময়া\\rবপারী বাড়ী',\n",
       "  'PostOffice': 'বাংগরা',\n",
       "  'PostCode': '3543'},\n",
       " 'Permanent': {'division': 'চাম',\n",
       "  'district': 'কুিমা',\n",
       "  'CCOM': '',\n",
       "  'MM': '',\n",
       "  'AMM': 'বাংগরা',\n",
       "  'VR': '',\n",
       "  'AVR': 'বাংগরা',\n",
       "  'HH': 'নান িময়া\\rবপারী বাড়ী',\n",
       "  'PostOffice': 'বাংগরা',\n",
       "  'PostCode': '3543'}}"
      ]
     },
     "execution_count": 181,
     "metadata": {},
     "output_type": "execute_result"
    }
   ],
   "source": [
    "import math\n",
    "from datetime import datetime\n",
    "from PyPDF2 import PdfReader\n",
    "import fitz\n",
    "import tabula\n",
    "FILE_TYPE = ['pdf']\n",
    "\n",
    "def saveImage(pdf_path:str):\n",
    "        if \".pdf\" in pdf_path:\n",
    "            doc = fitz.Document(pdf_path)\n",
    "            # for i in range(len(doc)):\n",
    "            for i,img in enumerate(doc.get_page_images(0)):\n",
    "                    xref = img[0]\n",
    "                    image = doc.extract_image(xref)\n",
    "                    pix = fitz.Pixmap(doc, xref)\n",
    "                    pix.save(\"core/static/images/{}.png\".format(i))\n",
    "data={\n",
    "        'userImg':\"images/0.png\",     #user image\n",
    "        'userSign':\"images/1.png\",    #user signature\n",
    "    }\n",
    "pdf = PdfReader(\"../media/test_Bs1vYdW.pdf\")\n",
    "def check(x):\n",
    "    if type(x)==str:\n",
    "        return x\n",
    "    else:\n",
    "        if math.isnan(x):\n",
    "            return ''\n",
    "for page in pdf.pages:\n",
    "    text=page.extractText()\n",
    "    for line in text.split('\\n'):\n",
    "        if \"National\" in line.split(' '):data[\"NationalID\"]=line.split(' ')[-1]\n",
    "        elif ['Voter','At'] == line.split()[:2]: data[\"VoterAt\"]=line.split(' ')[-1]\n",
    "        elif ['Blood','Group'] == line.split()[:2]:\n",
    "            if \"Group\"==line.split(' ')[-1]:\n",
    "                data[\"BloodGroup\"]=\"\"\n",
    "            else:\n",
    "                data[\"BloodGroup\"]=line.split(' ')[-1]\n",
    "    \n",
    "tables = tabula.read_pdf(\"../media/test_Bs1vYdW.pdf\", pages=\"1\", multiple_tables=True, encoding='UTF')   \n",
    "for df in tables:\n",
    "    if len(df.columns)>4:\n",
    "        df.dropna(how='all', inplace=True,axis=1)\n",
    "        for index,row in df.iterrows():\n",
    "            if row[0]=='Pin':\n",
    "                data[row[0]]=row[1]\n",
    "            elif row[0]=='Name(Bangla)':\n",
    "                data['NameB']=row[1]\n",
    "            elif row[0]=='Name(English)':\n",
    "                data['NameE']=row[1]\n",
    "            elif row[0]=='Father Name':\n",
    "                data['FatherName']=row[1]\n",
    "            elif row[0]=='Mother Name':\n",
    "                data['MotherName']=row[1]\n",
    "            elif row[0]=='Date of Birth':\n",
    "                data['DOB']=datetime.strptime(row[1],'%Y-%m-%d').strftime('%d %B %Y')\n",
    "            elif row[0]=='Brith Place':\n",
    "                data['BirthPlace']=row[1]\n",
    "            elif row[0]==\"Present Address\":\n",
    "                    data['Present']=dict(\n",
    "                        division=check(row[2]),\n",
    "                        district=check(row[4]),\n",
    "                        CCOM=check(df.iloc[index+1,4]),\n",
    "                        MM=check(df.iloc[index+3,2]),\n",
    "                        AMM=check(df.iloc[index+3,4]),\n",
    "                        VR=check(df.iloc[index+4,4]),\n",
    "                        AVR=check(df.iloc[index+5,2]),\n",
    "                        HH=check(df.iloc[index+5,4]),\n",
    "                        PostOffice=check(df.iloc[index+6,2]),\n",
    "                        PostCode=check(df.iloc[index+6,4]),\n",
    "                    )\n",
    "            elif row[0]=='Permanent Address':\n",
    "                    data['Permanent']=dict(\n",
    "                        division=check(row[2]),\n",
    "                        district=check(row[4]),\n",
    "                        CCOM=check(df.iloc[index+1,4]),\n",
    "                        MM=check(df.iloc[index+3,2]),\n",
    "                        AMM=check(df.iloc[index+3,4]),\n",
    "                        VR=check(df.iloc[index+4,4]),\n",
    "                        AVR=check(df.iloc[index+5,2]),\n",
    "                        HH=check(df.iloc[index+5,4]),\n",
    "                        PostOffice=check(df.iloc[index+6,2]),\n",
    "                        PostCode=check(df.iloc[index+6,4]),\n",
    "                    )\n",
    "\n",
    "data\n",
    "\n",
    "# def main(file:str):\n",
    "#     saveImage(file)\n",
    "#     data=getFirstPage(file)\n",
    "#     return data\n",
    "# if __name__==\"__main__\":\n",
    "#     print(main(\"media/test_Bs1vYdW.pdf\"))"
   ]
  },
  {
   "cell_type": "code",
   "execution_count": 169,
   "metadata": {},
   "outputs": [
    {
     "data": {
      "text/plain": [
       "{'NationalID': '1929176715',\n",
       " 'Pin': '19721591019904410',\n",
       " 'NameB': 'িমজা দুলাল',\n",
       " 'NameE': 'Mirza Dolal',\n",
       " 'DOB': '10 May 1972',\n",
       " 'FatherName': 'িমজা আ লু রশীদ',\n",
       " 'MotherName': 'সনাতন নছা',\n",
       " 'Present': {'division': 'চাম',\n",
       "  'district': 'চাম',\n",
       "  'CCOM': 'চাম িস ট\\rকেপােরশন',\n",
       "  'MM': '',\n",
       "  'AMM': 'বৗ বাজার',\n",
       "  'VR': '',\n",
       "  'AVR': 'আহমদর\\rরহমান সড়ক',\n",
       "  'HH': 'নর মাহা দ\\rকেলানী',\n",
       "  'PostOffice': 'চকবাজার',\n",
       "  'PostCode': '4203'},\n",
       " 'Permanent': {'division': 'চাম',\n",
       "  'district': 'চাম',\n",
       "  'CCOM': '',\n",
       "  'MM': '',\n",
       "  'AMM': 'বৗ বাজার',\n",
       "  'VR': '',\n",
       "  'AVR': 'আহমদর\\rরহমান সড়ক',\n",
       "  'HH': 'নর মাহা দ\\rকেলানী',\n",
       "  'PostOffice': 'চকবাজার',\n",
       "  'PostCode': '4203'}}"
      ]
     },
     "execution_count": 169,
     "metadata": {},
     "output_type": "execute_result"
    }
   ],
   "source": [
    "data"
   ]
  },
  {
   "cell_type": "code",
   "execution_count": 92,
   "metadata": {},
   "outputs": [
    {
     "data": {
      "text/html": [
       "<div>\n",
       "<style scoped>\n",
       "    .dataframe tbody tr th:only-of-type {\n",
       "        vertical-align: middle;\n",
       "    }\n",
       "\n",
       "    .dataframe tbody tr th {\n",
       "        vertical-align: top;\n",
       "    }\n",
       "\n",
       "    .dataframe thead th {\n",
       "        text-align: right;\n",
       "    }\n",
       "</style>\n",
       "<table border=\"1\" class=\"dataframe\">\n",
       "  <thead>\n",
       "    <tr style=\"text-align: right;\">\n",
       "      <th></th>\n",
       "      <th>National ID</th>\n",
       "      <th>8682841294</th>\n",
       "      <th>Unnamed: 3</th>\n",
       "      <th>Unnamed: 5</th>\n",
       "      <th>Unnamed: 7</th>\n",
       "    </tr>\n",
       "  </thead>\n",
       "  <tbody>\n",
       "    <tr>\n",
       "      <th>36</th>\n",
       "      <td>NaN</td>\n",
       "      <td>Additional\\rVillage/Road</td>\n",
       "      <td>আরমা জ</td>\n",
       "      <td>Home/Holding\\rNo</td>\n",
       "      <td>NaN</td>\n",
       "    </tr>\n",
       "    <tr>\n",
       "      <th>37</th>\n",
       "      <td>NaN</td>\n",
       "      <td>Post Office</td>\n",
       "      <td>জামাবাহার</td>\n",
       "      <td>Postal Code</td>\n",
       "      <td>NaN</td>\n",
       "    </tr>\n",
       "    <tr>\n",
       "      <th>38</th>\n",
       "      <td>NaN</td>\n",
       "      <td>Region</td>\n",
       "      <td>খলনা</td>\n",
       "      <td>NaN</td>\n",
       "      <td>NaN</td>\n",
       "    </tr>\n",
       "    <tr>\n",
       "      <th>39</th>\n",
       "      <td>Education</td>\n",
       "      <td>৮মণী</td>\n",
       "      <td>NaN</td>\n",
       "      <td>NaN</td>\n",
       "      <td>NaN</td>\n",
       "    </tr>\n",
       "    <tr>\n",
       "      <th>40</th>\n",
       "      <td>Education Other</td>\n",
       "      <td>NaN</td>\n",
       "      <td>NaN</td>\n",
       "      <td>NaN</td>\n",
       "      <td>NaN</td>\n",
       "    </tr>\n",
       "  </tbody>\n",
       "</table>\n",
       "</div>"
      ],
      "text/plain": [
       "        National ID                8682841294 Unnamed: 3        Unnamed: 5  \\\n",
       "36              NaN  Additional\\rVillage/Road     আরমা জ  Home/Holding\\rNo   \n",
       "37              NaN               Post Office  জামাবাহার       Postal Code   \n",
       "38              NaN                    Region       খলনা               NaN   \n",
       "39        Education                      ৮মণী        NaN               NaN   \n",
       "40  Education Other                       NaN        NaN               NaN   \n",
       "\n",
       "   Unnamed: 7  \n",
       "36        NaN  \n",
       "37        NaN  \n",
       "38        NaN  \n",
       "39        NaN  \n",
       "40        NaN  "
      ]
     },
     "execution_count": 92,
     "metadata": {},
     "output_type": "execute_result"
    }
   ],
   "source": []
  },
  {
   "cell_type": "code",
   "execution_count": 25,
   "metadata": {},
   "outputs": [
    {
     "name": "stdout",
     "output_type": "stream",
     "text": [
      "0\n",
      "1\n",
      "2\n",
      "3\n",
      "4\n",
      "5\n",
      "6\n",
      "7\n",
      "8\n",
      "9\n",
      "10\n",
      "11\n",
      "12\n",
      "13\n",
      "14\n",
      "15\n",
      "16\n",
      "17\n",
      "18\n",
      "19\n",
      "20\n",
      "21\n",
      "22\n",
      "23\n",
      "24\n",
      "25\n",
      "26\n",
      "27\n",
      "28\n",
      "29\n",
      "30\n",
      "31\n",
      "32\n",
      "33\n",
      "34\n",
      "35\n",
      "36\n",
      "37\n",
      "38\n",
      "39\n",
      "40\n",
      "41\n"
     ]
    }
   ],
   "source": [
    "\n"
   ]
  },
  {
   "cell_type": "code",
   "execution_count": 8,
   "metadata": {},
   "outputs": [
    {
     "data": {
      "text/plain": [
       "{'NationalID': '4651086227',\n",
       " 'Pin': '19851518685329552',\n",
       " 'Status': 'printed',\n",
       " 'Afis Status': 'NO_MATCH',\n",
       " 'Lock Flag': 'N',\n",
       " 'Voter No': '150369329552',\n",
       " 'Form No': '1329552',\n",
       " 'Sl No': '906',\n",
       " 'Tag': 'old',\n",
       " 'Name(Bangla)': 'মাঃ আল জয়াউল কিরম',\n",
       " 'Name(English)': 'Md Al Ziaul Karim',\n",
       " 'Date of Birth': '1985-11-21',\n",
       " 'Birth Place': 'চাম',\n",
       " 'Birth Other': nan,\n",
       " 'Birth Registration\\rNo': nan,\n",
       " 'Father Name': 'মাঃ ইউছফ',\n",
       " 'Mother Name': 'হািসনা বান',\n",
       " 'Spouse Name': nan,\n",
       " 'Gender': 'male',\n",
       " 'Marital': 'unmarried',\n",
       " 'Occupation': 'ছা/ছাী'}"
      ]
     },
     "execution_count": 8,
     "metadata": {},
     "output_type": "execute_result"
    }
   ],
   "source": [
    "data"
   ]
  },
  {
   "cell_type": "code",
   "execution_count": null,
   "metadata": {},
   "outputs": [],
   "source": []
  }
 ],
 "metadata": {
  "kernelspec": {
   "display_name": "Python 3.10.1 64-bit",
   "language": "python",
   "name": "python3"
  },
  "language_info": {
   "codemirror_mode": {
    "name": "ipython",
    "version": 3
   },
   "file_extension": ".py",
   "mimetype": "text/x-python",
   "name": "python",
   "nbconvert_exporter": "python",
   "pygments_lexer": "ipython3",
   "version": "3.10.1"
  },
  "orig_nbformat": 4,
  "vscode": {
   "interpreter": {
    "hash": "aee8b7b246df8f9039afb4144a1f6fd8d2ca17a180786b69acc140d282b71a49"
   }
  }
 },
 "nbformat": 4,
 "nbformat_minor": 2
}
